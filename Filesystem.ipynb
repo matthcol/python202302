{
 "cells": [
  {
   "cell_type": "markdown",
   "id": "9f9b64d4-6d6e-4247-86e1-e04cd027f240",
   "metadata": {},
   "source": [
    "# Système de fichiers\n",
    "- builtin: open (read, write, text or binary mode)\n",
    "- packages/modules: \n",
    "    - os.path (path=text)\n",
    "    - pathlib (path=object class Path)\n",
    "    - shutil: copy"
   ]
  },
  {
   "cell_type": "code",
   "execution_count": 62,
   "id": "7010719c-1465-4c68-9142-cc34e9208cb8",
   "metadata": {},
   "outputs": [],
   "source": [
    "from pathlib import Path\n",
    "import pandas as pd\n",
    "from datetime import datetime, date\n",
    "import shutil"
   ]
  },
  {
   "cell_type": "code",
   "execution_count": 2,
   "id": "d026526d-4b52-45f6-990c-76a3d08f0853",
   "metadata": {},
   "outputs": [
    {
     "data": {
      "text/plain": [
       "WindowsPath('.')"
      ]
     },
     "execution_count": 2,
     "metadata": {},
     "output_type": "execute_result"
    }
   ],
   "source": [
    "workDir = Path('.')\n",
    "workDir"
   ]
  },
  {
   "cell_type": "code",
   "execution_count": 17,
   "id": "7852f10e-688e-4dad-a95d-4e8a2bd24dd5",
   "metadata": {},
   "outputs": [
    {
     "name": "stdout",
     "output_type": "stream",
     "text": [
      "cities.csv: nb entries=5 ; size=114 ; last modified=07/02/2023 09:31\n",
      "datas\\51-station-meteo-toulouse-lardenne.csv: nb entries=120693 ; size=32708008 ; last modified=07/02/2023 15:46\n"
     ]
    }
   ],
   "source": [
    "for csvPath,_ in zip(workDir.glob('**/*.csv'), range(10)):\n",
    "    df = pd.read_csv(csvPath)\n",
    "    nbEntries = len(df)\n",
    "    stat = csvPath.stat()\n",
    "    size = stat.st_size\n",
    "    dtModified = datetime.fromtimestamp(stat.st_mtime)\n",
    "    print(f\"{csvPath}: nb entries={nbEntries} ; size={size} ; last modified={dtModified:%d/%m/%Y %H:%M}\")"
   ]
  },
  {
   "cell_type": "code",
   "execution_count": 28,
   "id": "8b949cfd-7c06-4d55-b0dc-c2ae573fdf90",
   "metadata": {},
   "outputs": [],
   "source": [
    "def sizeHumanReadable(size, unit=\"o\", kilo = 2**10):\n",
    "    \"\"\"convert size in bytes in human readable form\n",
    "        return str human readable size\n",
    "        K: 1024, i.e 2**10\n",
    "        M: 2**20\n",
    "        G: 2**30\n",
    "        T: 2**40\n",
    "        P: 2**50\n",
    "        E: 2**60\n",
    "        Z: 2**70\n",
    "        Y: 2**80\n",
    "    \"\"\"\n",
    "    prefixes = ['','K','M','G','T','P','E','Z','Y']\n",
    "    lastunit = True\n",
    "    for p in prefixes[:-1]:\n",
    "        if size < kilo:\n",
    "            lastunit = False\n",
    "            break\n",
    "        size /= kilo\n",
    "    if lastunit:\n",
    "        p = prefixes[-1]\n",
    "    return f\"{size:.3f} {p}{unit}\""
   ]
  },
  {
   "cell_type": "code",
   "execution_count": 29,
   "id": "deb23313-885d-4f16-a244-82a885ac9678",
   "metadata": {},
   "outputs": [
    {
     "name": "stdout",
     "output_type": "stream",
     "text": [
      "1000.000 o\n",
      "1.000 Ko\n",
      "3.930 Ko\n",
      "2.909 Go\n",
      "16.000 Eo\n",
      "1.000 Yo\n",
      "1024.000 Yo\n",
      "1048576.000 Yo\n"
     ]
    }
   ],
   "source": [
    "print(sizeHumanReadable(1000))\n",
    "print(sizeHumanReadable(1024))\n",
    "print(sizeHumanReadable(4024))\n",
    "print(sizeHumanReadable(3123123123))\n",
    "print(sizeHumanReadable(2**64))\n",
    "print(sizeHumanReadable(2**80))\n",
    "print(sizeHumanReadable(2**90))\n",
    "print(sizeHumanReadable(2**100))"
   ]
  },
  {
   "cell_type": "code",
   "execution_count": 30,
   "id": "b93fbd6f-438a-4210-b189-a08e6eaa60cc",
   "metadata": {},
   "outputs": [
    {
     "name": "stdout",
     "output_type": "stream",
     "text": [
      "1.000 Ko\n",
      "1.024 Ko\n",
      "4.024 Ko\n",
      "3.123 Go\n",
      "18.447 Eo\n",
      "1.209 Yo\n",
      "1237.940 Yo\n",
      "1267650.600 Yo\n"
     ]
    }
   ],
   "source": [
    "print(sizeHumanReadable(1000, kilo=10**3))\n",
    "print(sizeHumanReadable(1024, kilo=10**3))\n",
    "print(sizeHumanReadable(4024, kilo=10**3))\n",
    "print(sizeHumanReadable(3123123123, kilo=10**3))\n",
    "print(sizeHumanReadable(2**64, kilo=10**3))\n",
    "print(sizeHumanReadable(2**80, kilo=10**3))\n",
    "print(sizeHumanReadable(2**90, kilo=10**3))\n",
    "print(sizeHumanReadable(2**100, kilo=10**3))"
   ]
  },
  {
   "cell_type": "code",
   "execution_count": 47,
   "id": "d2f53c7f-66a2-4ba1-9b18-e5cce64b1d3a",
   "metadata": {},
   "outputs": [
    {
     "data": {
      "text/plain": [
       "WindowsPath('Backup/2023-02-08')"
      ]
     },
     "execution_count": 47,
     "metadata": {},
     "output_type": "execute_result"
    }
   ],
   "source": [
    "backupDirPath = workDir / \"Backup\" / str(date.today())\n",
    "backupDirPath"
   ]
  },
  {
   "cell_type": "code",
   "execution_count": 48,
   "id": "8e0eed2b-9f0d-4f30-ad53-f7e2f48acd46",
   "metadata": {},
   "outputs": [],
   "source": [
    "backupDirPath.mkdir(parents=True, exist_ok=True)"
   ]
  },
  {
   "cell_type": "code",
   "execution_count": 49,
   "id": "d7b1e4cc-4f67-4c37-a4e5-b2e31db2f937",
   "metadata": {},
   "outputs": [],
   "source": [
    "dfMeteo = pd.read_csv('datas/51-station-meteo-toulouse-lardenne.csv', sep=';')\n",
    "backupMeteo = backupDirPath / \"meteo.csv\"\n",
    "dfMeteo.to_csv(backupMeteo, index=False)"
   ]
  },
  {
   "cell_type": "code",
   "execution_count": 50,
   "id": "53625c14-5764-415c-adc2-b4b1840a002c",
   "metadata": {},
   "outputs": [],
   "source": [
    "newBackupMeteo = backupDirPath / \"meteoOfTheDay.csv\"\n",
    "backupMeteo.rename(newBackupMeteo)\n",
    "assert not backupMeteo.exists()\n",
    "assert newBackupMeteo.exists()"
   ]
  },
  {
   "cell_type": "code",
   "execution_count": 52,
   "id": "02a41819-4592-44a9-bf52-2ba1eaed568d",
   "metadata": {},
   "outputs": [
    {
     "name": "stdout",
     "output_type": "stream",
     "text": [
      "Backup\\2023-02-08\\meteoOfTheDay.csv -> Backup\\meteoOfTheDay.csv\n"
     ]
    }
   ],
   "source": [
    "backupMeteo = newBackupMeteo\n",
    "newBackupMeteo = backupDirPath.parent / backupMeteo.name\n",
    "print(backupMeteo, '->', newBackupMeteo)\n",
    "backupMeteo.rename(newBackupMeteo)\n",
    "assert not backupMeteo.exists()\n",
    "assert newBackupMeteo.exists()"
   ]
  },
  {
   "cell_type": "code",
   "execution_count": 55,
   "id": "82ce2837-a6df-4205-8b5c-72c2fa26d4dd",
   "metadata": {},
   "outputs": [
    {
     "ename": "FileNotFoundError",
     "evalue": "[WinError 2] Le fichier spécifié est introuvable: 'Backup\\\\meteoOfTheDay.csv'",
     "output_type": "error",
     "traceback": [
      "\u001b[1;31m---------------------------------------------------------------------------\u001b[0m",
      "\u001b[1;31mFileNotFoundError\u001b[0m                         Traceback (most recent call last)",
      "\u001b[1;32m~\\AppData\\Local\\Temp\\ipykernel_4384\\166281151.py\u001b[0m in \u001b[0;36m<cell line: 1>\u001b[1;34m()\u001b[0m\n\u001b[1;32m----> 1\u001b[1;33m \u001b[0mnewBackupMeteo\u001b[0m\u001b[1;33m.\u001b[0m\u001b[0munlink\u001b[0m\u001b[1;33m(\u001b[0m\u001b[1;33m)\u001b[0m\u001b[1;33m\u001b[0m\u001b[1;33m\u001b[0m\u001b[0m\n\u001b[0m",
      "\u001b[1;32m~\\anaconda3\\lib\\pathlib.py\u001b[0m in \u001b[0;36munlink\u001b[1;34m(self, missing_ok)\u001b[0m\n\u001b[0;32m   1352\u001b[0m         \"\"\"\n\u001b[0;32m   1353\u001b[0m         \u001b[1;32mtry\u001b[0m\u001b[1;33m:\u001b[0m\u001b[1;33m\u001b[0m\u001b[1;33m\u001b[0m\u001b[0m\n\u001b[1;32m-> 1354\u001b[1;33m             \u001b[0mself\u001b[0m\u001b[1;33m.\u001b[0m\u001b[0m_accessor\u001b[0m\u001b[1;33m.\u001b[0m\u001b[0munlink\u001b[0m\u001b[1;33m(\u001b[0m\u001b[0mself\u001b[0m\u001b[1;33m)\u001b[0m\u001b[1;33m\u001b[0m\u001b[1;33m\u001b[0m\u001b[0m\n\u001b[0m\u001b[0;32m   1355\u001b[0m         \u001b[1;32mexcept\u001b[0m \u001b[0mFileNotFoundError\u001b[0m\u001b[1;33m:\u001b[0m\u001b[1;33m\u001b[0m\u001b[1;33m\u001b[0m\u001b[0m\n\u001b[0;32m   1356\u001b[0m             \u001b[1;32mif\u001b[0m \u001b[1;32mnot\u001b[0m \u001b[0mmissing_ok\u001b[0m\u001b[1;33m:\u001b[0m\u001b[1;33m\u001b[0m\u001b[1;33m\u001b[0m\u001b[0m\n",
      "\u001b[1;31mFileNotFoundError\u001b[0m: [WinError 2] Le fichier spécifié est introuvable: 'Backup\\\\meteoOfTheDay.csv'"
     ]
    }
   ],
   "source": [
    "newBackupMeteo.unlink()"
   ]
  },
  {
   "cell_type": "code",
   "execution_count": 58,
   "id": "8da8873b-05cf-401f-a0f1-baf3a50c998b",
   "metadata": {},
   "outputs": [
    {
     "data": {
      "text/plain": [
       "[WindowsPath('Backup/a/b'),\n",
       " WindowsPath('Backup/a'),\n",
       " WindowsPath('Backup'),\n",
       " WindowsPath('.')]"
      ]
     },
     "execution_count": 58,
     "metadata": {},
     "output_type": "execute_result"
    }
   ],
   "source": [
    "d = backupDirPath.parent.joinpath(\"a\",\"b\",\"c\")\n",
    "list(d.parents)"
   ]
  },
  {
   "cell_type": "code",
   "execution_count": 59,
   "id": "fe93a313-3638-4928-8e2e-cd727a6c159a",
   "metadata": {},
   "outputs": [
    {
     "data": {
      "text/plain": [
       "[WindowsPath('C:/Users/Matthias/Documents/Formations/Python/Stage202302/Backup/a/b'),\n",
       " WindowsPath('C:/Users/Matthias/Documents/Formations/Python/Stage202302/Backup/a'),\n",
       " WindowsPath('C:/Users/Matthias/Documents/Formations/Python/Stage202302/Backup'),\n",
       " WindowsPath('C:/Users/Matthias/Documents/Formations/Python/Stage202302'),\n",
       " WindowsPath('C:/Users/Matthias/Documents/Formations/Python'),\n",
       " WindowsPath('C:/Users/Matthias/Documents/Formations'),\n",
       " WindowsPath('C:/Users/Matthias/Documents'),\n",
       " WindowsPath('C:/Users/Matthias'),\n",
       " WindowsPath('C:/Users'),\n",
       " WindowsPath('C:/')]"
      ]
     },
     "execution_count": 59,
     "metadata": {},
     "output_type": "execute_result"
    }
   ],
   "source": [
    "da = d.absolute()\n",
    "list(da.parents)"
   ]
  },
  {
   "cell_type": "code",
   "execution_count": 63,
   "id": "fb903be3-7a81-49fb-9968-80e95e1a64d4",
   "metadata": {},
   "outputs": [
    {
     "data": {
      "text/plain": [
       "WindowsPath('Backup/2023-02-08/51-station-meteo-toulouse-lardenne.csv')"
      ]
     },
     "execution_count": 63,
     "metadata": {},
     "output_type": "execute_result"
    }
   ],
   "source": [
    "meteoPath = Path('datas/51-station-meteo-toulouse-lardenne.csv')\n",
    "copyMeteoPath = backupDirPath / meteoPath.name\n",
    "shutil.copy(meteoPath, copyMeteoPath)"
   ]
  }
 ],
 "metadata": {
  "kernelspec": {
   "display_name": "Python 3 (ipykernel)",
   "language": "python",
   "name": "python3"
  },
  "language_info": {
   "codemirror_mode": {
    "name": "ipython",
    "version": 3
   },
   "file_extension": ".py",
   "mimetype": "text/x-python",
   "name": "python",
   "nbconvert_exporter": "python",
   "pygments_lexer": "ipython3",
   "version": "3.9.12"
  }
 },
 "nbformat": 4,
 "nbformat_minor": 5
}
