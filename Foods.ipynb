{
 "cells": [
  {
   "cell_type": "code",
   "execution_count": 1,
   "id": "83a1e2e8-ca94-4f5c-aaaa-3df487276696",
   "metadata": {},
   "outputs": [],
   "source": [
    "from datetime import date, timedelta\n",
    "import functools as fun\n",
    "from dataclasses import dataclass\n",
    "from typing import Optional"
   ]
  },
  {
   "cell_type": "code",
   "execution_count": 2,
   "id": "89149845-a814-4e5e-8d50-f4255e02fa92",
   "metadata": {},
   "outputs": [],
   "source": [
    "@fun.total_ordering\n",
    "class Food:\n",
    "    __slots__ = [ \"label\", \"price\", \"expirationDate\" ]\n",
    "    \n",
    "    def __init__(self, label='Unknown', price=0, expirationDate=None):\n",
    "        self.label = label\n",
    "        self.price = price\n",
    "        self.expirationDate = expirationDate\n",
    "        \n",
    "    # override both __str__ and __repr__\n",
    "    def __repr__(self):\n",
    "        return f\"Food[{self.label} ; price={self.price} ; expiration date={self.expirationDate}]\"\n",
    "    \n",
    "    # __eq__, __ne__\n",
    "    def __eq__(self, other):\n",
    "        # type other (with or without inheritance) or hasattr(label, ...)\n",
    "        if not isinstance(other, Food):\n",
    "            return NotImplemented\n",
    "        # optim same\n",
    "        if self is other:\n",
    "            return True\n",
    "        return (self.label, self.price, self.expirationDate) == (other.label, other.price, other.expirationDate)\n",
    "    \n",
    "    # __lt__, __le__, __gt__, __ge__\n",
    "    def __lt__(self, other):\n",
    "        if not isinstance(other, Food):\n",
    "            return NotImplemented\n",
    "        return (self.label, self.price, self.expirationDate) < (other.label, other.price, other.expirationDate)\n",
    "    \n",
    "    def getPriceVat(self):\n",
    "        return self.price * 1.2\n",
    "\n",
    "    @staticmethod\n",
    "    def fromLabel(label):\n",
    "        return Food(label)\n",
    "    \n",
    "    @classmethod\n",
    "    def fromLabelPrice(cls, label, price):\n",
    "        return cls(label, price)"
   ]
  },
  {
   "cell_type": "code",
   "execution_count": 3,
   "id": "04fb267e-4afc-4c1b-82e8-455e2bcc1bab",
   "metadata": {},
   "outputs": [
    {
     "name": "stdout",
     "output_type": "stream",
     "text": [
      "Food[Apple ; price=1 ; expiration date=2023-02-18]\n",
      "True False\n",
      "<class '__main__.Food'>\n",
      "Apple 1 2023-02-18\n",
      "Apple 3 2023-02-18\n"
     ]
    },
    {
     "data": {
      "text/plain": [
       "Food[Apple ; price=3 ; expiration date=2023-02-18]"
      ]
     },
     "execution_count": 3,
     "metadata": {},
     "output_type": "execute_result"
    }
   ],
   "source": [
    "f = Food(\"Apple\", 1, date.today() + timedelta(days=10))\n",
    "print(f)\n",
    "print(f==f, f!=f)\n",
    "print(type(f))\n",
    "print(f.label, f.price, f.expirationDate)\n",
    "f.price *= 3\n",
    "print(f.label, f.price, f.expirationDate)\n",
    "# del f.price\n",
    "# print(f.label, f.price, f.expirationDate)\n",
    "f"
   ]
  },
  {
   "cell_type": "code",
   "execution_count": 4,
   "id": "b379ef1a-3f1d-4708-a6db-b12b34488b53",
   "metadata": {},
   "outputs": [],
   "source": [
    "# not possible with slots\n",
    "# f.toto = 2"
   ]
  },
  {
   "cell_type": "code",
   "execution_count": 5,
   "id": "fc000e19-d980-4b0c-938a-3fc459ea4f73",
   "metadata": {},
   "outputs": [
    {
     "name": "stdout",
     "output_type": "stream",
     "text": [
      "Unknown 0 None\n"
     ]
    }
   ],
   "source": [
    "f2 = Food() \n",
    "print(f2.label, f2.price, f2.expirationDate)"
   ]
  },
  {
   "cell_type": "code",
   "execution_count": 6,
   "id": "f1e50969-5076-496a-a718-5e06e68ba202",
   "metadata": {},
   "outputs": [
    {
     "name": "stdout",
     "output_type": "stream",
     "text": [
      "False\n",
      "False\n"
     ]
    }
   ],
   "source": [
    "print(f == \"Apple\")\n",
    "print(\"Apple\" == f)"
   ]
  },
  {
   "cell_type": "code",
   "execution_count": 7,
   "id": "e02168cd-9a4b-4c1e-b37d-60323916d529",
   "metadata": {},
   "outputs": [],
   "source": [
    "f3 = Food(\"Apple\", 10)\n",
    "assert not f == f3\n",
    "assert f != f3"
   ]
  },
  {
   "cell_type": "code",
   "execution_count": 8,
   "id": "4f345f4a-4bc8-497f-af2a-ad4f62df17fe",
   "metadata": {},
   "outputs": [],
   "source": [
    "f4 = Food(f.label, f.price, f.expirationDate)\n",
    "assert f == f4"
   ]
  },
  {
   "cell_type": "code",
   "execution_count": 9,
   "id": "ff1267db-6a69-4c22-9ed0-4c476c387522",
   "metadata": {},
   "outputs": [
    {
     "data": {
      "text/plain": [
       "True"
      ]
     },
     "execution_count": 9,
     "metadata": {},
     "output_type": "execute_result"
    }
   ],
   "source": [
    "f < f2"
   ]
  },
  {
   "cell_type": "code",
   "execution_count": 10,
   "id": "683fce1c-be8f-4ee5-8901-21bc57b116f0",
   "metadata": {},
   "outputs": [
    {
     "name": "stdout",
     "output_type": "stream",
     "text": [
      "True\n",
      "False\n",
      "True\n",
      "False\n"
     ]
    }
   ],
   "source": [
    "print(f < f3)\n",
    "print(f > f3)\n",
    "print(f <= f3)\n",
    "print(f >= f3)"
   ]
  },
  {
   "cell_type": "code",
   "execution_count": 11,
   "id": "67b6ad8d-7471-4d3c-b1ef-81a361c9b732",
   "metadata": {},
   "outputs": [
    {
     "data": {
      "text/plain": [
       "(True, True)"
      ]
     },
     "execution_count": 11,
     "metadata": {},
     "output_type": "execute_result"
    }
   ],
   "source": [
    "isinstance(f, Food), isinstance(f, object)"
   ]
  },
  {
   "cell_type": "code",
   "execution_count": 12,
   "id": "417bbec7-7170-411f-97fb-98cdd4cd1da9",
   "metadata": {},
   "outputs": [
    {
     "data": {
      "text/plain": [
       "3.5999999999999996"
      ]
     },
     "execution_count": 12,
     "metadata": {},
     "output_type": "execute_result"
    }
   ],
   "source": [
    "f.getPriceVat()"
   ]
  },
  {
   "cell_type": "code",
   "execution_count": 13,
   "id": "10f1f28f-f926-48a5-93cb-9039fcd9e47b",
   "metadata": {},
   "outputs": [
    {
     "data": {
      "text/plain": [
       "3.5999999999999996"
      ]
     },
     "execution_count": 13,
     "metadata": {},
     "output_type": "execute_result"
    }
   ],
   "source": [
    "Food.getPriceVat(f)"
   ]
  },
  {
   "cell_type": "code",
   "execution_count": 14,
   "id": "404c1fbd-b5be-49fc-ad94-98119d95e49d",
   "metadata": {},
   "outputs": [
    {
     "data": {
      "text/plain": [
       "[3.5999999999999996, 0.0, 12.0, 3.5999999999999996]"
      ]
     },
     "execution_count": 14,
     "metadata": {},
     "output_type": "execute_result"
    }
   ],
   "source": [
    "foods = [ f, f2, f3, f4 ]\n",
    "list(map(Food.getPriceVat, foods))"
   ]
  },
  {
   "cell_type": "code",
   "execution_count": 15,
   "id": "6396ae8f-98fb-47e7-8a92-d94c57baeafc",
   "metadata": {},
   "outputs": [
    {
     "data": {
      "text/plain": [
       "Food[Banana ; price=0 ; expiration date=None]"
      ]
     },
     "execution_count": 15,
     "metadata": {},
     "output_type": "execute_result"
    }
   ],
   "source": [
    "Food.fromLabel(\"Banana\")"
   ]
  },
  {
   "cell_type": "code",
   "execution_count": 16,
   "id": "8620a798-e94c-4eb5-9a17-6c0963a15490",
   "metadata": {},
   "outputs": [
    {
     "data": {
      "text/plain": [
       "Food[Ananas ; price=10 ; expiration date=None]"
      ]
     },
     "execution_count": 16,
     "metadata": {},
     "output_type": "execute_result"
    }
   ],
   "source": [
    "Food.fromLabelPrice(\"Ananas\", 10)"
   ]
  },
  {
   "cell_type": "code",
   "execution_count": 17,
   "id": "21b4c02b-f81d-4f30-9f0f-07dbf548ad51",
   "metadata": {},
   "outputs": [],
   "source": [
    "# TypeError: sum() can't sum strings [use ''.join(seq) instead]\n",
    "# sum([\"Apple\", \"Banana\", \"Ananas\"], \"\")"
   ]
  },
  {
   "cell_type": "code",
   "execution_count": 18,
   "id": "7af875a2-e23d-4c4e-8621-3aa3d5ff472d",
   "metadata": {},
   "outputs": [],
   "source": [
    "# declaration simplede classe avec @dataclass de python ou pydantic\n",
    "\n",
    "@dataclass\n",
    "class Food2:\n",
    "    label: str\n",
    "    price: float\n",
    "    expirationDate: Optional[date]"
   ]
  },
  {
   "cell_type": "code",
   "execution_count": 19,
   "id": "f7a2852b-bb73-49aa-a188-71b4cfa588fd",
   "metadata": {},
   "outputs": [],
   "source": [
    "f1 = Food2(\"Apple\", 1, None)\n",
    "f2 = Food2(\"Apple\", 1, None)\n",
    "f3 = Food2(\"Banana\", 10, date.today())"
   ]
  },
  {
   "cell_type": "code",
   "execution_count": 20,
   "id": "e55f71e2-eac8-499f-8aa6-93898aaf69e2",
   "metadata": {},
   "outputs": [],
   "source": [
    "wrongFood = Food2(1,2,3)"
   ]
  }
 ],
 "metadata": {
  "kernelspec": {
   "display_name": "Python 3 (ipykernel)",
   "language": "python",
   "name": "python3"
  },
  "language_info": {
   "codemirror_mode": {
    "name": "ipython",
    "version": 3
   },
   "file_extension": ".py",
   "mimetype": "text/x-python",
   "name": "python",
   "nbconvert_exporter": "python",
   "pygments_lexer": "ipython3",
   "version": "3.9.12"
  }
 },
 "nbformat": 4,
 "nbformat_minor": 5
}
