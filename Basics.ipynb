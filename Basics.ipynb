{
 "cells": [
  {
   "cell_type": "markdown",
   "id": "26aa5b83-8927-419e-b5f9-385779f3b753",
   "metadata": {},
   "source": [
    "# Python Basics"
   ]
  },
  {
   "cell_type": "code",
   "execution_count": 2,
   "id": "9c2dbea2-d89e-4a48-9ae7-b79eaa79ff04",
   "metadata": {},
   "outputs": [],
   "source": [
    "import numpy as np\n",
    "import matplotlib.pyplot as plt\n",
    "import re\n",
    "from typing import List, Tuple, Optional"
   ]
  },
  {
   "cell_type": "markdown",
   "id": "d4552821-ae50-4151-82cf-b80e08619f73",
   "metadata": {},
   "source": [
    "## Intro - Démo"
   ]
  },
  {
   "cell_type": "code",
   "execution_count": 3,
   "id": "b5b3d9ad-8eb5-440f-b40b-a253a8a5f602",
   "metadata": {},
   "outputs": [
    {
     "data": {
      "text/plain": [
       "[12, 14, 25]"
      ]
     },
     "execution_count": 3,
     "metadata": {},
     "output_type": "execute_result"
    }
   ],
   "source": [
    "data = [ 12, 14, 25 ]\n",
    "data"
   ]
  },
  {
   "cell_type": "code",
   "execution_count": 4,
   "id": "41c31e26-744f-463e-b291-a67e6910d86f",
   "metadata": {},
   "outputs": [],
   "source": [
    "x = np.linspace(0, 2*np.pi, 10000)\n",
    "y = np.sin(x)"
   ]
  },
  {
   "cell_type": "code",
   "execution_count": 5,
   "id": "cca3c5aa-1ebc-46ff-82f3-a85d81530317",
   "metadata": {},
   "outputs": [
    {
     "data": {
      "text/plain": [
       "[<matplotlib.lines.Line2D at 0x286fc198190>]"
      ]
     },
     "execution_count": 5,
     "metadata": {},
     "output_type": "execute_result"
    },
    {
     "data": {
      "image/png": "[encoded data removed]",
      "text/plain": [
       "<Figure size 432x288 with 1 Axes>"
      ]
     },
     "metadata": {
      "needs_background": "light"
     },
     "output_type": "display_data"
    }
   ],
   "source": [
    "plt.plot(x,y)"
   ]
  },
  {
   "cell_type": "markdown",
   "id": "eb1ee0bc-ce60-498f-9b7f-ca163259f48b",
   "metadata": {},
   "source": [
    "## Python types"
   ]
  },
  {
   "cell_type": "code",
   "execution_count": 5,
   "id": "53244995-f2e9-4660-beab-5be3758bc330",
   "metadata": {},
   "outputs": [
    {
     "data": {
      "text/plain": [
       "int"
      ]
     },
     "execution_count": 5,
     "metadata": {},
     "output_type": "execute_result"
    }
   ],
   "source": [
    "personCount = 3\n",
    "type(personCount)"
   ]
  },
  {
   "cell_type": "code",
   "execution_count": 6,
   "id": "61d34d61-e5dd-47ac-862d-6a6a1483519c",
   "metadata": {},
   "outputs": [
    {
     "data": {
      "text/plain": [
       "373391848741020043532959754184866588225409776783734007750636931722079040617265251229993688938803977220468765065431475158108727054592160858581351336982809187314191748594262580938807019951956404285571818041046681288797402925517668012340617298396574731619152386723046235125934896058590588284654793540505936202376547807442730582144527058988756251452817793413352141920744623027518729185432862375737063985485319476416926263819972887006907013899256524297198527698749274196276811060702333710356481"
      ]
     },
     "execution_count": 6,
     "metadata": {},
     "output_type": "execute_result"
    }
   ],
   "source": [
    "personCount**1024"
   ]
  },
  {
   "cell_type": "code",
   "execution_count": 7,
   "id": "437b99c3-f5af-4ab1-9daf-9400730ebb3e",
   "metadata": {},
   "outputs": [
    {
     "data": {
      "text/plain": [
       "array([[0, 0, 0, ..., 0, 0, 0],\n",
       "       [0, 0, 0, ..., 0, 0, 0],\n",
       "       [0, 0, 0, ..., 0, 0, 0],\n",
       "       ...,\n",
       "       [0, 0, 0, ..., 0, 0, 0],\n",
       "       [0, 0, 0, ..., 0, 0, 0],\n",
       "       [0, 0, 0, ..., 0, 0, 0]], dtype=uint8)"
      ]
     },
     "execution_count": 7,
     "metadata": {},
     "output_type": "execute_result"
    }
   ],
   "source": [
    "# en numpy: uint8, uint16, uint32, uint64, int8, int16, int32, int64\n",
    "image = np.zeros((100,100),dtype=np.uint8)\n",
    "image"
   ]
  },
  {
   "cell_type": "code",
   "execution_count": 8,
   "id": "3f632ea9-f0f4-406d-9fcb-43f7f5ee2adc",
   "metadata": {},
   "outputs": [
    {
     "data": {
      "text/plain": [
       "float"
      ]
     },
     "execution_count": 8,
     "metadata": {},
     "output_type": "execute_result"
    }
   ],
   "source": [
    "temperature = 20.4\n",
    "type(temperature)"
   ]
  },
  {
   "cell_type": "code",
   "execution_count": 9,
   "id": "1c694461-8d90-478b-b774-1592393074a6",
   "metadata": {},
   "outputs": [
    {
     "name": "stdout",
     "output_type": "stream",
     "text": [
      "1e+308 inf\n"
     ]
    }
   ],
   "source": [
    "bigNumber = 1.0E308\n",
    "print(bigNumber, bigNumber*10)"
   ]
  },
  {
   "cell_type": "code",
   "execution_count": 10,
   "id": "08cd1b3d-df27-416a-9f74-b9e42885da2f",
   "metadata": {},
   "outputs": [],
   "source": [
    "# numpy: np.float32, np.float64"
   ]
  },
  {
   "cell_type": "code",
   "execution_count": 11,
   "id": "a8155573-70b9-4d26-aa73-2ca33e2e43f7",
   "metadata": {},
   "outputs": [
    {
     "data": {
      "text/plain": [
       "(True, False)"
      ]
     },
     "execution_count": 11,
     "metadata": {},
     "output_type": "execute_result"
    }
   ],
   "source": [
    "# booleans\n",
    "True, False"
   ]
  },
  {
   "cell_type": "code",
   "execution_count": 12,
   "id": "8d9dad2e-3149-4e94-be76-867c7a08041e",
   "metadata": {},
   "outputs": [
    {
     "name": "stdout",
     "output_type": "stream",
     "text": [
      "liste vide fausse\n"
     ]
    }
   ],
   "source": [
    "if []:\n",
    "    print(\"liste vide vraie\")\n",
    "else:\n",
    "    print(\"liste vide fausse\") "
   ]
  },
  {
   "cell_type": "code",
   "execution_count": 13,
   "id": "091b07fa-845c-43ab-949f-bd51c6c81aad",
   "metadata": {},
   "outputs": [
    {
     "data": {
      "text/plain": [
       "(False, False, False, False)"
      ]
     },
     "execution_count": 13,
     "metadata": {},
     "output_type": "execute_result"
    }
   ],
   "source": [
    "bool(0), bool([]), bool(\"\"), bool(None)"
   ]
  },
  {
   "cell_type": "code",
   "execution_count": 14,
   "id": "cab44dde-b8c7-423f-a77e-1c5582fa556a",
   "metadata": {},
   "outputs": [
    {
     "data": {
      "text/plain": [
       "(True, True, True)"
      ]
     },
     "execution_count": 14,
     "metadata": {},
     "output_type": "execute_result"
    }
   ],
   "source": [
    "bool(1), bool([1]), bool(\"A\")"
   ]
  },
  {
   "cell_type": "code",
   "execution_count": 15,
   "id": "25ea3033-48fb-495e-a1c5-2ccda8f40753",
   "metadata": {},
   "outputs": [
    {
     "name": "stdout",
     "output_type": "stream",
     "text": [
      "Pau Toulouse\n",
      "SELECT name, pop\n",
      "        FROM cities\n",
      "        WHERE dep = 64\n"
     ]
    }
   ],
   "source": [
    "city1 = \"Pau\"\n",
    "city2 = 'Toulouse'\n",
    "query = \"\"\"SELECT name, pop\n",
    "        FROM cities\n",
    "        WHERE dep = 64\"\"\"\n",
    "print(city1, city2)\n",
    "print(query)"
   ]
  },
  {
   "cell_type": "markdown",
   "id": "33d1c558-88c4-4ff9-bf61-f4f31e3594c1",
   "metadata": {},
   "source": [
    "Formatted strings: https://docs.python.org/3/library/string.html#formatstrings"
   ]
  },
  {
   "cell_type": "code",
   "execution_count": 16,
   "id": "140bbbc7-e6ee-4c4b-b22c-3f6606a0698a",
   "metadata": {},
   "outputs": [
    {
     "data": {
      "text/plain": [
       "'nb person 3 in Pau, temperature = 20.40'"
      ]
     },
     "execution_count": 16,
     "metadata": {},
     "output_type": "execute_result"
    }
   ],
   "source": [
    "f\"nb person {personCount} in {city1}, temperature = {temperature:.2f}\""
   ]
  },
  {
   "cell_type": "code",
   "execution_count": 17,
   "id": "5da0ee6c-9992-48af-ab3a-0062933cb7b8",
   "metadata": {},
   "outputs": [
    {
     "data": {
      "text/plain": [
       "'nb person 3 in Pau, temperature = 20.40'"
      ]
     },
     "execution_count": 17,
     "metadata": {},
     "output_type": "execute_result"
    }
   ],
   "source": [
    "\"nb person {} in {}, temperature = {:.2f}\".format(personCount, city1, temperature)"
   ]
  },
  {
   "cell_type": "code",
   "execution_count": 18,
   "id": "35d7b9e9-8bd9-43d6-a25d-35800b7b79fa",
   "metadata": {},
   "outputs": [
    {
     "data": {
      "text/plain": [
       "'nb person 3 in Pau, temperature = 20.4'"
      ]
     },
     "execution_count": 18,
     "metadata": {},
     "output_type": "execute_result"
    }
   ],
   "source": [
    "# oldschool formatted string\n",
    "\"nb person %s in %s, temperature = %s\" % (personCount, city1, temperature)"
   ]
  },
  {
   "cell_type": "code",
   "execution_count": 19,
   "id": "f7f58dbf-c9db-4aff-b6f5-564626aa1b79",
   "metadata": {},
   "outputs": [
    {
     "data": {
      "text/plain": [
       "'PAU'"
      ]
     },
     "execution_count": 19,
     "metadata": {},
     "output_type": "execute_result"
    }
   ],
   "source": [
    "city1.upper()"
   ]
  },
  {
   "cell_type": "code",
   "execution_count": 20,
   "id": "9a49b05e-9bba-4558-9dcd-7fc640153812",
   "metadata": {
    "tags": []
   },
   "outputs": [
    {
     "data": {
      "text/plain": [
       "['__add__',\n",
       " '__class__',\n",
       " '__contains__',\n",
       " '__delattr__',\n",
       " '__dir__',\n",
       " '__doc__',\n",
       " '__eq__',\n",
       " '__format__',\n",
       " '__ge__',\n",
       " '__getattribute__',\n",
       " '__getitem__',\n",
       " '__getnewargs__',\n",
       " '__gt__',\n",
       " '__hash__',\n",
       " '__init__',\n",
       " '__init_subclass__',\n",
       " '__iter__',\n",
       " '__le__',\n",
       " '__len__',\n",
       " '__lt__',\n",
       " '__mod__',\n",
       " '__mul__',\n",
       " '__ne__',\n",
       " '__new__',\n",
       " '__reduce__',\n",
       " '__reduce_ex__',\n",
       " '__repr__',\n",
       " '__rmod__',\n",
       " '__rmul__',\n",
       " '__setattr__',\n",
       " '__sizeof__',\n",
       " '__str__',\n",
       " '__subclasshook__',\n",
       " 'capitalize',\n",
       " 'casefold',\n",
       " 'center',\n",
       " 'count',\n",
       " 'encode',\n",
       " 'endswith',\n",
       " 'expandtabs',\n",
       " 'find',\n",
       " 'format',\n",
       " 'format_map',\n",
       " 'index',\n",
       " 'isalnum',\n",
       " 'isalpha',\n",
       " 'isascii',\n",
       " 'isdecimal',\n",
       " 'isdigit',\n",
       " 'isidentifier',\n",
       " 'islower',\n",
       " 'isnumeric',\n",
       " 'isprintable',\n",
       " 'isspace',\n",
       " 'istitle',\n",
       " 'isupper',\n",
       " 'join',\n",
       " 'ljust',\n",
       " 'lower',\n",
       " 'lstrip',\n",
       " 'maketrans',\n",
       " 'partition',\n",
       " 'removeprefix',\n",
       " 'removesuffix',\n",
       " 'replace',\n",
       " 'rfind',\n",
       " 'rindex',\n",
       " 'rjust',\n",
       " 'rpartition',\n",
       " 'rsplit',\n",
       " 'rstrip',\n",
       " 'split',\n",
       " 'splitlines',\n",
       " 'startswith',\n",
       " 'strip',\n",
       " 'swapcase',\n",
       " 'title',\n",
       " 'translate',\n",
       " 'upper',\n",
       " 'zfill']"
      ]
     },
     "execution_count": 20,
     "metadata": {},
     "output_type": "execute_result"
    }
   ],
   "source": [
    "dir(city1)"
   ]
  },
  {
   "cell_type": "code",
   "execution_count": 21,
   "id": "d46ccbb5-39ee-4c33-b224-3aa4cc29b0ff",
   "metadata": {},
   "outputs": [
    {
     "data": {
      "text/plain": [
       "['12', '34', '56', '3']"
      ]
     },
     "execution_count": 21,
     "metadata": {},
     "output_type": "execute_result"
    }
   ],
   "source": [
    "l = \"12,34,56,3\".split(\",\")\n",
    "l"
   ]
  },
  {
   "cell_type": "code",
   "execution_count": 22,
   "id": "8bf3ffa2-ea5f-499b-b83d-b0438dedc8a9",
   "metadata": {},
   "outputs": [
    {
     "data": {
      "text/plain": [
       "'12,34,56,3'"
      ]
     },
     "execution_count": 22,
     "metadata": {},
     "output_type": "execute_result"
    }
   ],
   "source": [
    "\",\".join(l)"
   ]
  },
  {
   "cell_type": "code",
   "execution_count": 23,
   "id": "078e8cb6-13d8-4c7a-8e28-e0993ab56679",
   "metadata": {},
   "outputs": [
    {
     "data": {
      "text/plain": [
       "'Tou'"
      ]
     },
     "execution_count": 23,
     "metadata": {},
     "output_type": "execute_result"
    }
   ],
   "source": [
    "# slices\n",
    "city2[:3]"
   ]
  },
  {
   "cell_type": "code",
   "execution_count": 24,
   "id": "ff26ab15-c90d-4951-912e-0ad77966156a",
   "metadata": {},
   "outputs": [
    {
     "data": {
      "text/plain": [
       "NoneType"
      ]
     },
     "execution_count": 24,
     "metadata": {},
     "output_type": "execute_result"
    }
   ],
   "source": [
    "type(None)"
   ]
  },
  {
   "cell_type": "code",
   "execution_count": 25,
   "id": "a3f6da96-ee0f-49fd-a4a3-aeb0e11283ce",
   "metadata": {},
   "outputs": [],
   "source": [
    "def printCity(city):\n",
    "    print(\"City is\", city)"
   ]
  },
  {
   "cell_type": "code",
   "execution_count": 26,
   "id": "f6c6808f-f56b-4505-a33b-0d237aafb349",
   "metadata": {},
   "outputs": [
    {
     "name": "stdout",
     "output_type": "stream",
     "text": [
      "City is Pau\n"
     ]
    },
    {
     "data": {
      "text/plain": [
       "True"
      ]
     },
     "execution_count": 26,
     "metadata": {},
     "output_type": "execute_result"
    }
   ],
   "source": [
    "printCity(city1) is None"
   ]
  },
  {
   "cell_type": "code",
   "execution_count": 27,
   "id": "6370a769-c07d-4367-a416-947290fede7e",
   "metadata": {},
   "outputs": [
    {
     "name": "stdout",
     "output_type": "stream",
     "text": [
      "Toulouse contains 'ou'\n"
     ]
    }
   ],
   "source": [
    "# example of function returning something or None\n",
    "# returning type: Optional[Match] or Match | None\n",
    "s = re.search(\"ou\", city2)\n",
    "if s:\n",
    "    print(city2, \"contains 'ou'\")"
   ]
  },
  {
   "cell_type": "markdown",
   "id": "bca3c22b-63fa-401d-aebe-631d684a1cd5",
   "metadata": {},
   "source": [
    "## containers\n",
    "- sequences: list, tuple, set\n",
    "- dict (key->value)"
   ]
  },
  {
   "cell_type": "code",
   "execution_count": 28,
   "id": "abbd883d-29a5-4963-b786-b1b444c4e2b0",
   "metadata": {},
   "outputs": [],
   "source": [
    "temperatures = [ 12.2, 14.3, 15.6, 17.9 ]\n",
    "city_t = (\"Pau\", \"64000\", 77000) # with or without ()\n",
    "city_d = { \n",
    "    \"name\": \"Pau\",\n",
    "    \"cp\": \"64000\",\n",
    "    \"pop\": 77000\n",
    "}\n"
   ]
  },
  {
   "cell_type": "code",
   "execution_count": 29,
   "id": "d54024ce-b630-440a-a23a-037701b777bb",
   "metadata": {},
   "outputs": [
    {
     "data": {
      "text/plain": [
       "(list, tuple, dict)"
      ]
     },
     "execution_count": 29,
     "metadata": {},
     "output_type": "execute_result"
    }
   ],
   "source": [
    "type(temperatures), type(city_t), type(city_d)"
   ]
  },
  {
   "cell_type": "code",
   "execution_count": 30,
   "id": "35335da1-01de-45aa-a7e7-d0a2c4ed4c1f",
   "metadata": {},
   "outputs": [
    {
     "data": {
      "text/plain": [
       "(dict, set, set)"
      ]
     },
     "execution_count": 30,
     "metadata": {},
     "output_type": "execute_result"
    }
   ],
   "source": [
    "type({}), type(set()), type({1,2,3})"
   ]
  },
  {
   "cell_type": "code",
   "execution_count": 31,
   "id": "649d3bd1-0bb8-41ff-98e0-5c0973804b0d",
   "metadata": {},
   "outputs": [],
   "source": [
    "# hints\n",
    "temperatures: List[int] = [ 12.2, 14.3, 15.6, 17.9 ]\n",
    "city_t: Tuple[str,str,int] = (\"Pau\", \"64000\", 77000) # with or without ()\n",
    "city_d: dict = { \n",
    "    \"name\": \"Pau\",\n",
    "    \"cp\": \"64000\",\n",
    "    \"pop\": 77000\n",
    "}"
   ]
  },
  {
   "cell_type": "code",
   "execution_count": 32,
   "id": "d49c77c8-2c9a-45fe-8492-bcc854f97da6",
   "metadata": {},
   "outputs": [
    {
     "data": {
      "text/plain": [
       "[12.3, 15.6, 17.9, 20.5]"
      ]
     },
     "execution_count": 32,
     "metadata": {},
     "output_type": "execute_result"
    }
   ],
   "source": [
    "temperatures.append(20.5)\n",
    "temperatures[0] = 12.3\n",
    "del temperatures[1]\n",
    "temperatures"
   ]
  },
  {
   "cell_type": "code",
   "execution_count": 34,
   "id": "e293f635-44f4-4410-9aae-d1037b1e1371",
   "metadata": {},
   "outputs": [
    {
     "data": {
      "text/plain": [
       "('Pau', '64000', 80000)"
      ]
     },
     "execution_count": 34,
     "metadata": {},
     "output_type": "execute_result"
    }
   ],
   "source": [
    "# TypeError: 'tuple' object does not support item assignment\n",
    "# city_t[2] = 80000\n",
    "city_t = city_t[0], city_t[1], 80000\n",
    "city_t"
   ]
  },
  {
   "cell_type": "code",
   "execution_count": 35,
   "id": "2bf5b82d-f8e3-438b-a4ff-fb8d579f6fe6",
   "metadata": {},
   "outputs": [
    {
     "name": "stdout",
     "output_type": "stream",
     "text": [
      "Pau 64000 80000\n"
     ]
    }
   ],
   "source": [
    "n, cp, pop = city_t\n",
    "print(n, cp, pop)"
   ]
  },
  {
   "cell_type": "code",
   "execution_count": 36,
   "id": "3fdfc219-da17-481e-9ba9-60a7142ea0df",
   "metadata": {},
   "outputs": [
    {
     "name": "stdout",
     "output_type": "stream",
     "text": [
      "{'name': 'Pau', 'cp': '64000', 'pop': 80000}\n"
     ]
    }
   ],
   "source": [
    "city_d[\"pop\"] = 80000\n",
    "print(city_d)"
   ]
  },
  {
   "cell_type": "code",
   "execution_count": 38,
   "id": "d0c5afc2-6a46-4dcb-b41a-d5eaadb09aca",
   "metadata": {},
   "outputs": [
    {
     "data": {
      "text/plain": [
       "{'name': 'Pau', 'pop': 80000, 'weather': 'sun'}"
      ]
     },
     "execution_count": 38,
     "metadata": {},
     "output_type": "execute_result"
    }
   ],
   "source": [
    "city_d[\"weather\"] = \"sun\"\n",
    "del city_d[\"cp\"]\n",
    "city_d"
   ]
  },
  {
   "cell_type": "code",
   "execution_count": 39,
   "id": "111a6a2c-3e6f-4eb8-984a-f48f930fd0bf",
   "metadata": {},
   "outputs": [],
   "source": [
    "def sum(iterable):\n",
    "    print(\"My sum ....\")"
   ]
  },
  {
   "cell_type": "code",
   "execution_count": 40,
   "id": "6183f007-e6a6-4f74-8deb-d2db4ef15983",
   "metadata": {},
   "outputs": [
    {
     "name": "stdout",
     "output_type": "stream",
     "text": [
      "My sum ....\n"
     ]
    }
   ],
   "source": [
    "sum(temperatures)"
   ]
  },
  {
   "cell_type": "code",
   "execution_count": 41,
   "id": "5747353a-dbe7-4ba8-8143-bacd7d4f4fd1",
   "metadata": {},
   "outputs": [
    {
     "data": {
      "text/plain": [
       "66.3"
      ]
     },
     "execution_count": 41,
     "metadata": {},
     "output_type": "execute_result"
    }
   ],
   "source": [
    "del sum\n",
    "sum(temperatures)"
   ]
  },
  {
   "cell_type": "markdown",
   "id": "12b14bf7-7362-4162-ba29-11c1c1f71ae7",
   "metadata": {},
   "source": [
    "### operators\n",
    "- compute: +, -, *, /, //, %, **\n",
    "- comparison: ==, !=, <, <=, >, >=, is , is not\n",
    "- combination: not, and, or\n",
    "- at, slice: []"
   ]
  },
  {
   "cell_type": "code",
   "execution_count": 42,
   "id": "d0c955b0-351d-4f3b-9ca0-ce60224aeae7",
   "metadata": {},
   "outputs": [
    {
     "data": {
      "text/plain": [
       "(4.25, 4)"
      ]
     },
     "execution_count": 42,
     "metadata": {},
     "output_type": "execute_result"
    }
   ],
   "source": [
    "17 / 4, 17 // 4"
   ]
  },
  {
   "cell_type": "code",
   "execution_count": 43,
   "id": "3a81f975-7efc-4f43-90bf-29a469e052bb",
   "metadata": {},
   "outputs": [
    {
     "data": {
      "text/plain": [
       "4294967296"
      ]
     },
     "execution_count": 43,
     "metadata": {},
     "output_type": "execute_result"
    }
   ],
   "source": [
    "2**32"
   ]
  },
  {
   "cell_type": "code",
   "execution_count": 44,
   "id": "b6edd525-b138-473c-a103-1bcad2491937",
   "metadata": {},
   "outputs": [
    {
     "data": {
      "text/plain": [
       "True"
      ]
     },
     "execution_count": 44,
     "metadata": {},
     "output_type": "execute_result"
    }
   ],
   "source": [
    "city2_d = city_d\n",
    "city2_d is city_d"
   ]
  },
  {
   "cell_type": "code",
   "execution_count": 46,
   "id": "603f4a38-3950-49bb-b703-dd6b3a6f627c",
   "metadata": {},
   "outputs": [
    {
     "data": {
      "text/plain": [
       "False"
      ]
     },
     "execution_count": 46,
     "metadata": {},
     "output_type": "execute_result"
    }
   ],
   "source": [
    "city_d is {'name': 'Pau', 'pop': 80000, 'weather': 'sun'}"
   ]
  },
  {
   "cell_type": "code",
   "execution_count": 47,
   "id": "86d08692-61fc-4564-b845-d070a7c05e9f",
   "metadata": {},
   "outputs": [
    {
     "data": {
      "text/plain": [
       "True"
      ]
     },
     "execution_count": 47,
     "metadata": {},
     "output_type": "execute_result"
    }
   ],
   "source": [
    "city_d == {'name': 'Pau', 'pop': 80000, 'weather': 'sun'}"
   ]
  },
  {
   "cell_type": "code",
   "execution_count": 50,
   "id": "e9bd594e-d6d8-4ce5-af04-262760f02fb9",
   "metadata": {},
   "outputs": [
    {
     "data": {
      "text/plain": [
       "False"
      ]
     },
     "execution_count": 50,
     "metadata": {},
     "output_type": "execute_result"
    }
   ],
   "source": [
    "# comparisons: ==, !=, is , is not always defined\n",
    "city2 == city_d"
   ]
  },
  {
   "cell_type": "code",
   "execution_count": 52,
   "id": "9ac3c2c2-816b-4c60-a6eb-b714fb7df3d3",
   "metadata": {},
   "outputs": [],
   "source": [
    "# TypeError: can only concatenate str (not \"int\") to str\n",
    "# city2 + 45"
   ]
  },
  {
   "cell_type": "code",
   "execution_count": 54,
   "id": "b7c5c161-0289-49ef-bcad-1505137d29e7",
   "metadata": {},
   "outputs": [
    {
     "data": {
      "text/plain": [
       "array([3.        , 3.00062838, 3.00125676, ..., 9.28192854, 9.28255693,\n",
       "       9.28318531])"
      ]
     },
     "execution_count": 54,
     "metadata": {},
     "output_type": "execute_result"
    }
   ],
   "source": [
    "# operator with different types of argument\n",
    "# x: numpy.ndarray, personCount: int\n",
    "x + personCount"
   ]
  },
  {
   "cell_type": "code",
   "execution_count": 56,
   "id": "4e7a21e3-fc2c-4f21-9ade-5f77d21d6ad6",
   "metadata": {},
   "outputs": [
    {
     "data": {
      "text/plain": [
       "array([3.        , 3.00062838, 3.00125676, ..., 9.28192854, 9.28255693,\n",
       "       9.28318531])"
      ]
     },
     "execution_count": 56,
     "metadata": {},
     "output_type": "execute_result"
    }
   ],
   "source": [
    "# compute by 2nd arg\n",
    "personCount + x"
   ]
  },
  {
   "cell_type": "code",
   "execution_count": 58,
   "id": "bf5502f1-52a4-42ff-9591-788c9e24d067",
   "metadata": {},
   "outputs": [],
   "source": [
    "# x < city2\n",
    "# TypeError: '<' not supported between instances of 'numpy.ndarray' and 'str'"
   ]
  },
  {
   "cell_type": "code",
   "execution_count": 64,
   "id": "a56216bd-ba3a-446f-8d85-9a9d3d78c877",
   "metadata": {},
   "outputs": [
    {
     "name": "stdout",
     "output_type": "stream",
     "text": [
      "[12.3, 15.6, 17.9, 20.5]\n",
      "12.3\n",
      "20.5\n",
      "[15.6, 17.9]\n",
      "[12.3, 15.6]\n",
      "[17.9, 20.5]\n",
      "[17.9, 20.5]\n",
      "ouse\n"
     ]
    }
   ],
   "source": [
    "print(temperatures)\n",
    "print(temperatures[0])\n",
    "print(temperatures[-1])\n",
    "print(temperatures[1:3]) # end position excluded\n",
    "print(temperatures[:2])\n",
    "print(temperatures[2:])\n",
    "print(temperatures[-2:])\n",
    "print(city2[-4:])\n"
   ]
  },
  {
   "cell_type": "code",
   "execution_count": 67,
   "id": "7571086d-019a-454f-97fd-0dd4c54a06e4",
   "metadata": {},
   "outputs": [
    {
     "name": "stdout",
     "output_type": "stream",
     "text": [
      "[]\n"
     ]
    }
   ],
   "source": [
    "# IndexError: list index out of range\n",
    "# print(temperatures[40])\n",
    "print(temperatures[40:])"
   ]
  },
  {
   "cell_type": "code",
   "execution_count": 68,
   "id": "64160dd1-ffab-454e-bb27-e76f3617965a",
   "metadata": {},
   "outputs": [
    {
     "data": {
      "text/plain": [
       "'Tuos'"
      ]
     },
     "execution_count": 68,
     "metadata": {},
     "output_type": "execute_result"
    }
   ],
   "source": [
    "city2[::2]"
   ]
  },
  {
   "cell_type": "code",
   "execution_count": 69,
   "id": "bab908c2-4df5-4e23-8a50-2170d4088553",
   "metadata": {},
   "outputs": [
    {
     "data": {
      "text/plain": [
       "'olue'"
      ]
     },
     "execution_count": 69,
     "metadata": {},
     "output_type": "execute_result"
    }
   ],
   "source": [
    "city2[1::2]"
   ]
  },
  {
   "cell_type": "code",
   "execution_count": 70,
   "id": "da36d047-73bb-4794-ba40-31552fff92d8",
   "metadata": {},
   "outputs": [
    {
     "data": {
      "text/plain": [
       "'esuoluoT'"
      ]
     },
     "execution_count": 70,
     "metadata": {},
     "output_type": "execute_result"
    }
   ],
   "source": [
    "city2[::-1]"
   ]
  },
  {
   "cell_type": "code",
   "execution_count": 71,
   "id": "f64f8392-3dd3-4249-a5d2-f622e67efabd",
   "metadata": {
    "collapsed": true,
    "jupyter": {
     "outputs_hidden": true
    },
    "tags": []
   },
   "outputs": [
    {
     "data": {
      "text/plain": [
       "array([[0, 0, 0, 0, 0, 0, 0, 0, 0, 0],\n",
       "       [0, 0, 0, 0, 0, 0, 0, 0, 0, 0],\n",
       "       [0, 0, 0, 0, 0, 0, 0, 0, 0, 0],\n",
       "       [0, 0, 0, 0, 0, 0, 0, 0, 0, 0],\n",
       "       [0, 0, 0, 0, 0, 0, 0, 0, 0, 0],\n",
       "       [0, 0, 0, 0, 0, 0, 0, 0, 0, 0],\n",
       "       [0, 0, 0, 0, 0, 0, 0, 0, 0, 0],\n",
       "       [0, 0, 0, 0, 0, 0, 0, 0, 0, 0],\n",
       "       [0, 0, 0, 0, 0, 0, 0, 0, 0, 0],\n",
       "       [0, 0, 0, 0, 0, 0, 0, 0, 0, 0],\n",
       "       [0, 0, 0, 0, 0, 0, 0, 0, 0, 0],\n",
       "       [0, 0, 0, 0, 0, 0, 0, 0, 0, 0],\n",
       "       [0, 0, 0, 0, 0, 0, 0, 0, 0, 0],\n",
       "       [0, 0, 0, 0, 0, 0, 0, 0, 0, 0],\n",
       "       [0, 0, 0, 0, 0, 0, 0, 0, 0, 0],\n",
       "       [0, 0, 0, 0, 0, 0, 0, 0, 0, 0],\n",
       "       [0, 0, 0, 0, 0, 0, 0, 0, 0, 0],\n",
       "       [0, 0, 0, 0, 0, 0, 0, 0, 0, 0],\n",
       "       [0, 0, 0, 0, 0, 0, 0, 0, 0, 0],\n",
       "       [0, 0, 0, 0, 0, 0, 0, 0, 0, 0],\n",
       "       [0, 0, 0, 0, 0, 0, 0, 0, 0, 0],\n",
       "       [0, 0, 0, 0, 0, 0, 0, 0, 0, 0],\n",
       "       [0, 0, 0, 0, 0, 0, 0, 0, 0, 0],\n",
       "       [0, 0, 0, 0, 0, 0, 0, 0, 0, 0],\n",
       "       [0, 0, 0, 0, 0, 0, 0, 0, 0, 0],\n",
       "       [0, 0, 0, 0, 0, 0, 0, 0, 0, 0],\n",
       "       [0, 0, 0, 0, 0, 0, 0, 0, 0, 0],\n",
       "       [0, 0, 0, 0, 0, 0, 0, 0, 0, 0],\n",
       "       [0, 0, 0, 0, 0, 0, 0, 0, 0, 0],\n",
       "       [0, 0, 0, 0, 0, 0, 0, 0, 0, 0],\n",
       "       [0, 0, 0, 0, 0, 0, 0, 0, 0, 0],\n",
       "       [0, 0, 0, 0, 0, 0, 0, 0, 0, 0],\n",
       "       [0, 0, 0, 0, 0, 0, 0, 0, 0, 0],\n",
       "       [0, 0, 0, 0, 0, 0, 0, 0, 0, 0],\n",
       "       [0, 0, 0, 0, 0, 0, 0, 0, 0, 0],\n",
       "       [0, 0, 0, 0, 0, 0, 0, 0, 0, 0],\n",
       "       [0, 0, 0, 0, 0, 0, 0, 0, 0, 0],\n",
       "       [0, 0, 0, 0, 0, 0, 0, 0, 0, 0],\n",
       "       [0, 0, 0, 0, 0, 0, 0, 0, 0, 0],\n",
       "       [0, 0, 0, 0, 0, 0, 0, 0, 0, 0],\n",
       "       [0, 0, 0, 0, 0, 0, 0, 0, 0, 0],\n",
       "       [0, 0, 0, 0, 0, 0, 0, 0, 0, 0],\n",
       "       [0, 0, 0, 0, 0, 0, 0, 0, 0, 0],\n",
       "       [0, 0, 0, 0, 0, 0, 0, 0, 0, 0],\n",
       "       [0, 0, 0, 0, 0, 0, 0, 0, 0, 0],\n",
       "       [0, 0, 0, 0, 0, 0, 0, 0, 0, 0],\n",
       "       [0, 0, 0, 0, 0, 0, 0, 0, 0, 0],\n",
       "       [0, 0, 0, 0, 0, 0, 0, 0, 0, 0],\n",
       "       [0, 0, 0, 0, 0, 0, 0, 0, 0, 0],\n",
       "       [0, 0, 0, 0, 0, 0, 0, 0, 0, 0],\n",
       "       [0, 0, 0, 0, 0, 0, 0, 0, 0, 0],\n",
       "       [0, 0, 0, 0, 0, 0, 0, 0, 0, 0],\n",
       "       [0, 0, 0, 0, 0, 0, 0, 0, 0, 0],\n",
       "       [0, 0, 0, 0, 0, 0, 0, 0, 0, 0],\n",
       "       [0, 0, 0, 0, 0, 0, 0, 0, 0, 0],\n",
       "       [0, 0, 0, 0, 0, 0, 0, 0, 0, 0],\n",
       "       [0, 0, 0, 0, 0, 0, 0, 0, 0, 0],\n",
       "       [0, 0, 0, 0, 0, 0, 0, 0, 0, 0],\n",
       "       [0, 0, 0, 0, 0, 0, 0, 0, 0, 0],\n",
       "       [0, 0, 0, 0, 0, 0, 0, 0, 0, 0],\n",
       "       [0, 0, 0, 0, 0, 0, 0, 0, 0, 0],\n",
       "       [0, 0, 0, 0, 0, 0, 0, 0, 0, 0],\n",
       "       [0, 0, 0, 0, 0, 0, 0, 0, 0, 0],\n",
       "       [0, 0, 0, 0, 0, 0, 0, 0, 0, 0],\n",
       "       [0, 0, 0, 0, 0, 0, 0, 0, 0, 0],\n",
       "       [0, 0, 0, 0, 0, 0, 0, 0, 0, 0],\n",
       "       [0, 0, 0, 0, 0, 0, 0, 0, 0, 0],\n",
       "       [0, 0, 0, 0, 0, 0, 0, 0, 0, 0],\n",
       "       [0, 0, 0, 0, 0, 0, 0, 0, 0, 0],\n",
       "       [0, 0, 0, 0, 0, 0, 0, 0, 0, 0],\n",
       "       [0, 0, 0, 0, 0, 0, 0, 0, 0, 0],\n",
       "       [0, 0, 0, 0, 0, 0, 0, 0, 0, 0],\n",
       "       [0, 0, 0, 0, 0, 0, 0, 0, 0, 0],\n",
       "       [0, 0, 0, 0, 0, 0, 0, 0, 0, 0],\n",
       "       [0, 0, 0, 0, 0, 0, 0, 0, 0, 0],\n",
       "       [0, 0, 0, 0, 0, 0, 0, 0, 0, 0],\n",
       "       [0, 0, 0, 0, 0, 0, 0, 0, 0, 0],\n",
       "       [0, 0, 0, 0, 0, 0, 0, 0, 0, 0],\n",
       "       [0, 0, 0, 0, 0, 0, 0, 0, 0, 0],\n",
       "       [0, 0, 0, 0, 0, 0, 0, 0, 0, 0],\n",
       "       [0, 0, 0, 0, 0, 0, 0, 0, 0, 0],\n",
       "       [0, 0, 0, 0, 0, 0, 0, 0, 0, 0],\n",
       "       [0, 0, 0, 0, 0, 0, 0, 0, 0, 0],\n",
       "       [0, 0, 0, 0, 0, 0, 0, 0, 0, 0],\n",
       "       [0, 0, 0, 0, 0, 0, 0, 0, 0, 0],\n",
       "       [0, 0, 0, 0, 0, 0, 0, 0, 0, 0],\n",
       "       [0, 0, 0, 0, 0, 0, 0, 0, 0, 0],\n",
       "       [0, 0, 0, 0, 0, 0, 0, 0, 0, 0],\n",
       "       [0, 0, 0, 0, 0, 0, 0, 0, 0, 0],\n",
       "       [0, 0, 0, 0, 0, 0, 0, 0, 0, 0],\n",
       "       [0, 0, 0, 0, 0, 0, 0, 0, 0, 0],\n",
       "       [0, 0, 0, 0, 0, 0, 0, 0, 0, 0],\n",
       "       [0, 0, 0, 0, 0, 0, 0, 0, 0, 0],\n",
       "       [0, 0, 0, 0, 0, 0, 0, 0, 0, 0],\n",
       "       [0, 0, 0, 0, 0, 0, 0, 0, 0, 0],\n",
       "       [0, 0, 0, 0, 0, 0, 0, 0, 0, 0],\n",
       "       [0, 0, 0, 0, 0, 0, 0, 0, 0, 0],\n",
       "       [0, 0, 0, 0, 0, 0, 0, 0, 0, 0],\n",
       "       [0, 0, 0, 0, 0, 0, 0, 0, 0, 0],\n",
       "       [0, 0, 0, 0, 0, 0, 0, 0, 0, 0]], dtype=uint8)"
      ]
     },
     "execution_count": 71,
     "metadata": {},
     "output_type": "execute_result"
    }
   ],
   "source": [
    "image[::-1, ::10] "
   ]
  },
  {
   "cell_type": "code",
   "execution_count": 73,
   "id": "872919e2-73f2-4be3-9dec-bf7de3a8eb5d",
   "metadata": {},
   "outputs": [
    {
     "data": {
      "text/plain": [
       "array([[0, 0, 0, ..., 0, 0, 0],\n",
       "       [0, 0, 0, ..., 0, 0, 0],\n",
       "       [0, 0, 0, ..., 0, 0, 0],\n",
       "       ...,\n",
       "       [0, 0, 0, ..., 0, 0, 0],\n",
       "       [0, 0, 0, ..., 0, 0, 0],\n",
       "       [0, 0, 0, ..., 0, 0, 0]], dtype=uint8)"
      ]
     },
     "execution_count": 73,
     "metadata": {},
     "output_type": "execute_result"
    }
   ],
   "source": [
    "# produit matriciel\n",
    "image @ image"
   ]
  },
  {
   "cell_type": "code",
   "execution_count": 76,
   "id": "2a671591-d2e7-485e-951c-e7057bd3b340",
   "metadata": {},
   "outputs": [],
   "source": [
    "# dir(np.ndarray)\n",
    "# + => __add__\n",
    "# += => __iadd__\n",
    "# [] => __getitem__, __set_item__"
   ]
  },
  {
   "cell_type": "code",
   "execution_count": 77,
   "id": "352e7c36-8d72-423e-8110-dbf545927634",
   "metadata": {},
   "outputs": [
    {
     "data": {
      "text/plain": [
       "array([[3, 3, 3, ..., 3, 3, 3],\n",
       "       [3, 3, 3, ..., 3, 3, 3],\n",
       "       [3, 3, 3, ..., 3, 3, 3],\n",
       "       ...,\n",
       "       [3, 3, 3, ..., 3, 3, 3],\n",
       "       [3, 3, 3, ..., 3, 3, 3],\n",
       "       [3, 3, 3, ..., 3, 3, 3]], dtype=uint8)"
      ]
     },
     "execution_count": 77,
     "metadata": {},
     "output_type": "execute_result"
    }
   ],
   "source": [
    "image.__add__(3)"
   ]
  },
  {
   "cell_type": "code",
   "execution_count": 79,
   "id": "4ebbbc50-6cd2-491c-8a39-49ac83da4998",
   "metadata": {},
   "outputs": [
    {
     "data": {
      "text/plain": [
       "NotImplemented"
      ]
     },
     "execution_count": 79,
     "metadata": {},
     "output_type": "execute_result"
    }
   ],
   "source": [
    "x = 3\n",
    "x.__add__(image)"
   ]
  },
  {
   "cell_type": "code",
   "execution_count": 80,
   "id": "b69b41a5-444f-428c-acea-6412381a392d",
   "metadata": {
    "collapsed": true,
    "jupyter": {
     "outputs_hidden": true
    },
    "tags": []
   },
   "outputs": [
    {
     "data": {
      "text/plain": [
       "['T',\n",
       " '__abs__',\n",
       " '__add__',\n",
       " '__and__',\n",
       " '__array__',\n",
       " '__array_finalize__',\n",
       " '__array_function__',\n",
       " '__array_interface__',\n",
       " '__array_prepare__',\n",
       " '__array_priority__',\n",
       " '__array_struct__',\n",
       " '__array_ufunc__',\n",
       " '__array_wrap__',\n",
       " '__bool__',\n",
       " '__class__',\n",
       " '__class_getitem__',\n",
       " '__complex__',\n",
       " '__contains__',\n",
       " '__copy__',\n",
       " '__deepcopy__',\n",
       " '__delattr__',\n",
       " '__delitem__',\n",
       " '__dir__',\n",
       " '__divmod__',\n",
       " '__dlpack__',\n",
       " '__dlpack_device__',\n",
       " '__doc__',\n",
       " '__eq__',\n",
       " '__float__',\n",
       " '__floordiv__',\n",
       " '__format__',\n",
       " '__ge__',\n",
       " '__getattribute__',\n",
       " '__getitem__',\n",
       " '__gt__',\n",
       " '__hash__',\n",
       " '__iadd__',\n",
       " '__iand__',\n",
       " '__ifloordiv__',\n",
       " '__ilshift__',\n",
       " '__imatmul__',\n",
       " '__imod__',\n",
       " '__imul__',\n",
       " '__index__',\n",
       " '__init__',\n",
       " '__init_subclass__',\n",
       " '__int__',\n",
       " '__invert__',\n",
       " '__ior__',\n",
       " '__ipow__',\n",
       " '__irshift__',\n",
       " '__isub__',\n",
       " '__iter__',\n",
       " '__itruediv__',\n",
       " '__ixor__',\n",
       " '__le__',\n",
       " '__len__',\n",
       " '__lshift__',\n",
       " '__lt__',\n",
       " '__matmul__',\n",
       " '__mod__',\n",
       " '__mul__',\n",
       " '__ne__',\n",
       " '__neg__',\n",
       " '__new__',\n",
       " '__or__',\n",
       " '__pos__',\n",
       " '__pow__',\n",
       " '__radd__',\n",
       " '__rand__',\n",
       " '__rdivmod__',\n",
       " '__reduce__',\n",
       " '__reduce_ex__',\n",
       " '__repr__',\n",
       " '__rfloordiv__',\n",
       " '__rlshift__',\n",
       " '__rmatmul__',\n",
       " '__rmod__',\n",
       " '__rmul__',\n",
       " '__ror__',\n",
       " '__rpow__',\n",
       " '__rrshift__',\n",
       " '__rshift__',\n",
       " '__rsub__',\n",
       " '__rtruediv__',\n",
       " '__rxor__',\n",
       " '__setattr__',\n",
       " '__setitem__',\n",
       " '__setstate__',\n",
       " '__sizeof__',\n",
       " '__str__',\n",
       " '__sub__',\n",
       " '__subclasshook__',\n",
       " '__truediv__',\n",
       " '__xor__',\n",
       " 'all',\n",
       " 'any',\n",
       " 'argmax',\n",
       " 'argmin',\n",
       " 'argpartition',\n",
       " 'argsort',\n",
       " 'astype',\n",
       " 'base',\n",
       " 'byteswap',\n",
       " 'choose',\n",
       " 'clip',\n",
       " 'compress',\n",
       " 'conj',\n",
       " 'conjugate',\n",
       " 'copy',\n",
       " 'ctypes',\n",
       " 'cumprod',\n",
       " 'cumsum',\n",
       " 'data',\n",
       " 'diagonal',\n",
       " 'dot',\n",
       " 'dtype',\n",
       " 'dump',\n",
       " 'dumps',\n",
       " 'fill',\n",
       " 'flags',\n",
       " 'flat',\n",
       " 'flatten',\n",
       " 'getfield',\n",
       " 'imag',\n",
       " 'item',\n",
       " 'itemset',\n",
       " 'itemsize',\n",
       " 'max',\n",
       " 'mean',\n",
       " 'min',\n",
       " 'nbytes',\n",
       " 'ndim',\n",
       " 'newbyteorder',\n",
       " 'nonzero',\n",
       " 'partition',\n",
       " 'prod',\n",
       " 'ptp',\n",
       " 'put',\n",
       " 'ravel',\n",
       " 'real',\n",
       " 'repeat',\n",
       " 'reshape',\n",
       " 'resize',\n",
       " 'round',\n",
       " 'searchsorted',\n",
       " 'setfield',\n",
       " 'setflags',\n",
       " 'shape',\n",
       " 'size',\n",
       " 'sort',\n",
       " 'squeeze',\n",
       " 'std',\n",
       " 'strides',\n",
       " 'sum',\n",
       " 'swapaxes',\n",
       " 'take',\n",
       " 'tobytes',\n",
       " 'tofile',\n",
       " 'tolist',\n",
       " 'tostring',\n",
       " 'trace',\n",
       " 'transpose',\n",
       " 'var',\n",
       " 'view']"
      ]
     },
     "execution_count": 80,
     "metadata": {},
     "output_type": "execute_result"
    }
   ],
   "source": [
    "dir(np.ndarray)"
   ]
  },
  {
   "cell_type": "markdown",
   "id": "5e33ee8b-6b20-4349-9994-c8455db562e7",
   "metadata": {},
   "source": [
    "## Exercice\n",
    "Convertir une liste de villes sous la forme de tuple (nom, code postal, population)\n",
    "en en liste de dictionnaires (keys: name, cp, pop)"
   ]
  },
  {
   "cell_type": "code",
   "execution_count": 81,
   "id": "8007ba24-2336-4f05-b57a-d561ac92887c",
   "metadata": {},
   "outputs": [],
   "source": [
    "def convertCitiesTuplesToDicts(cities_tuples):\n",
    "    pass"
   ]
  },
  {
   "cell_type": "code",
   "execution_count": null,
   "id": "ce00573c-5c8b-4946-a8fc-7086978b7b38",
   "metadata": {},
   "outputs": [],
   "source": [
    "cities_tuples = [\n",
    "    ('Pau', '64000', 77000),\n",
    "    ('Toulouse', '31000', 470000),\n",
    "    ('Bordeaux', '33000', 250000),\n",
    "    ('Bayonne', '64100', 49000),\n",
    "]\n",
    "    "
   ]
  }
 ],
 "metadata": {
  "kernelspec": {
   "display_name": "Python 3 (ipykernel)",
   "language": "python",
   "name": "python3"
  },
  "language_info": {
   "codemirror_mode": {
    "name": "ipython",
    "version": 3
   },
   "file_extension": ".py",
   "mimetype": "text/x-python",
   "name": "python",
   "nbconvert_exporter": "python",
   "pygments_lexer": "ipython3",
   "version": "3.9.12"
  },
  "vscode": {
   "interpreter": {
    "hash": "a42704ac41a61a688343fec3580f7dab585536e630effb53d2c7a2b03cac372a"
   }
  }
 },
 "nbformat": 4,
 "nbformat_minor": 5
}
